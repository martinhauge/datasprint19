{
 "cells": [
  {
   "cell_type": "markdown",
   "metadata": {},
   "source": [
    "# Data Processing\n",
    "In this notebook, we introduce different tools that can help us process, analyse and visualise our data."
   ]
  },
  {
   "cell_type": "markdown",
   "metadata": {},
   "source": [
    "## 1. Setup\n",
    "\n",
    "Again we start by importing libraries. In this notebook, we will use a combination of both `matplotlib` functions and helper functions to draw our plots."
   ]
  },
  {
   "cell_type": "code",
   "execution_count": null,
   "metadata": {},
   "outputs": [],
   "source": [
    "import pandas as pd\n",
    "import matplotlib.pyplot as plt\n",
    "\n",
    "from processing_tools import group_years, relative_frequencies"
   ]
  },
  {
   "cell_type": "markdown",
   "metadata": {},
   "source": [
    "## 2. Load data\n",
    "\n",
    "As previously, we load our CSV-file into a DataFrame and save it in the variable `df`."
   ]
  },
  {
   "cell_type": "code",
   "execution_count": null,
   "metadata": {},
   "outputs": [],
   "source": [
    "# Absolute or relative path to CSV-file on your computer.\n",
    "data_file = '../dataframe_with_texts.csv'\n",
    "\n",
    "df = pd.read_csv(data_file)"
   ]
  },
  {
   "cell_type": "markdown",
   "metadata": {},
   "source": [
    "## 3. Processing the data\n",
    "\n",
    "We can process our data in countless ways for different types of analyses.\n",
    "\n",
    "Below are a few examples of how we can analyse and visualise the data with the help of Python."
   ]
  },
  {
   "cell_type": "markdown",
   "metadata": {},
   "source": [
    "### 3.1 Relative frequencies\n",
    "\n",
    "Relative frequencies are a useful method for comparing occurrences of terms across a number of differently sized documents.\n",
    "\n",
    "Before we calculate the relative frequencies, we prepare our data by grouping all the texts by year using the `group_years()` function."
   ]
  },
  {
   "cell_type": "code",
   "execution_count": null,
   "metadata": {},
   "outputs": [],
   "source": [
    "df_by_years = group_years(df)"
   ]
  },
  {
   "cell_type": "markdown",
   "metadata": {},
   "source": [
    "When calculating relative frequencies, we are mainly interested in the text content of the documents. For this reason, we have let go of a lot of metadata in our `df_by_years` DataFrame.\n",
    "\n",
    "Have a look at the structure of the new DataFrame below."
   ]
  },
  {
   "cell_type": "code",
   "execution_count": null,
   "metadata": {},
   "outputs": [],
   "source": [
    "df_by_years"
   ]
  },
  {
   "cell_type": "markdown",
   "metadata": {},
   "source": [
    "Our new DataFrame is indexed by years and only contains the number of documents for each year as well as all of each year's documents stuck together in one field.\n",
    "\n",
    "We are now ready to compute some relative frequencies. We use the `relative_frequencies()` helper function, which takes our new, grouped DataFrame as the first argument and a search term as the second argument.\n",
    "\n",
    "Below we search the data for the term _United States_."
   ]
  },
  {
   "cell_type": "code",
   "execution_count": null,
   "metadata": {},
   "outputs": [],
   "source": [
    "term = 'United states'\n",
    "\n",
    "us = relative_frequencies(df_by_years, term)"
   ]
  },
  {
   "cell_type": "markdown",
   "metadata": {},
   "source": [
    "We now have a list of the relative frequency of the term _United States_ for each year in our DataFrame. The list is saved in a variable named `us`.\n",
    "\n",
    "We can easily visualise this data by passing `us` to `plt.plot()`."
   ]
  },
  {
   "cell_type": "code",
   "execution_count": null,
   "metadata": {},
   "outputs": [],
   "source": [
    "plt.plot(us)"
   ]
  },
  {
   "cell_type": "markdown",
   "metadata": {},
   "source": [
    "The very small numbers on the Y-axis does not tell us a lot, but once we start adding more terms, our relative frequencies will start to make more sense.\n",
    "\n",
    "You may have noticed that the style of our plot have changed. This is the default style of `matplotlib`, which is efficient more than it is aesthetically pleasing. We can change the plotting style by passing the name of the style to `plt.style.use()`. To get a list of available styles run `plt.style.available` or see examples in the [documentation](https://matplotlib.org/3.1.1/gallery/style_sheets/style_sheets_reference.html).\n",
    "\n",
    "Below we choose to use the style `'seaborn'`."
   ]
  },
  {
   "cell_type": "code",
   "execution_count": null,
   "metadata": {},
   "outputs": [],
   "source": [
    "plt.style.use('seaborn')"
   ]
  },
  {
   "cell_type": "markdown",
   "metadata": {},
   "source": [
    "In the plot below we add relative frequencies for _Soviet Union_ as well as _United States_. We also add a legend with a list of labels, which tells us how to read the visualisation."
   ]
  },
  {
   "cell_type": "code",
   "execution_count": null,
   "metadata": {
    "scrolled": false
   },
   "outputs": [],
   "source": [
    "ussr = relative_frequencies(df_by_years, 'Soviet Union')\n",
    "\n",
    "plt.plot(us)\n",
    "plt.plot(ussr)\n",
    "\n",
    "labels = ['United States', 'Soviet Union']\n",
    "\n",
    "plt.legend(labels)\n",
    "\n",
    "plt.show()"
   ]
  },
  {
   "cell_type": "markdown",
   "metadata": {},
   "source": [
    "If we want to plot a lot of terms at once, we can store them in a list and use a `for` loop to do the heavy lifting.\n",
    "\n",
    "Below we import a list of names of selected 1980s World leaders. For each person in the list, we calculate the relative frequencies and add them to the plot. Finally, we add a legend with the list of names."
   ]
  },
  {
   "cell_type": "code",
   "execution_count": null,
   "metadata": {},
   "outputs": [],
   "source": [
    "from basic_tools import world_leaders_80s\n",
    "\n",
    "for person in world_leaders_80s:\n",
    "    plt.plot(relative_frequencies(df_by_years, person))\n",
    "\n",
    "plt.legend(world_leaders_80s)\n",
    "\n",
    "plt.show()"
   ]
  },
  {
   "cell_type": "markdown",
   "metadata": {},
   "source": [
    "### 3.2 Network analysis"
   ]
  },
  {
   "cell_type": "markdown",
   "metadata": {},
   "source": [
    "Another type of data analysis we can process and visualise with Python is the network analysis. In this analysis, we specify a part of the metadata to be the basis of our network. We then get back data showing the connections between our data points.\n",
    "\n",
    "To create the analysis, we import a few extra tools."
   ]
  },
  {
   "cell_type": "code",
   "execution_count": null,
   "metadata": {},
   "outputs": [],
   "source": [
    "from processing_tools import get_edges\n",
    "from viz_tools import draw_network"
   ]
  },
  {
   "cell_type": "markdown",
   "metadata": {},
   "source": [
    "Before we start, we will cover some basic network analysis terminology. A network consists of _nodes_ and _edges_. In our visualisation, nodes are shown as round markers and each node represents a value in our dataset. Edges represent the links between our data points and are shown as lines between our nodes.\n",
    "\n",
    "In this implementation, we use the helper function `get_edges()` to compute and return a list of edges. We pass the variable containing our DataFrame, `df`, and the name of the column we want to analyse.\n",
    "\n",
    "Below we attempt to create a network analysis of communication between people and organisations in our dataset. We make the assumption that if more than one value (separated by semi-colon) is present in the `creators` column, the document involves some sort of exchange. We can try to visualise this in a network. "
   ]
  },
  {
   "cell_type": "code",
   "execution_count": null,
   "metadata": {},
   "outputs": [],
   "source": [
    "edges, values = get_edges(df, 'creators')"
   ]
  },
  {
   "cell_type": "markdown",
   "metadata": {},
   "source": [
    "Notice that we save the output of `get_edges()` to two variables: `edges` and `values`. That is because `get_edges()` returns two objects: a list of the edges and a list of the values (or nodes) in the network.\n",
    "\n",
    "We can use `values` as a reference for our visualisation, as the plot will use numbers to identify nodes rather than the full text strings.\n",
    "\n",
    "Run the cell below to see how the values are numbered."
   ]
  },
  {
   "cell_type": "code",
   "execution_count": null,
   "metadata": {
    "scrolled": true
   },
   "outputs": [],
   "source": [
    "values"
   ]
  },
  {
   "cell_type": "markdown",
   "metadata": {},
   "source": [
    "To draw our network, we pass our list of edges to the helper function `draw_network`. We also change the plotting mode to interactive with `%matplotlib notebook` so we can zoom and resize our plot."
   ]
  },
  {
   "cell_type": "code",
   "execution_count": null,
   "metadata": {},
   "outputs": [],
   "source": [
    "%matplotlib notebook\n",
    "draw_network(edges)"
   ]
  },
  {
   "cell_type": "markdown",
   "metadata": {},
   "source": [
    "The colours of the plot can be changed with the keyword parameters `node_col` and `edge_col`.\n",
    "\n",
    "We can use this method to create networks of any of the metadata columns in the dataset which are likely to contain more than one value, such as `creators`, `locations`, `subjects` and `collections`.\n",
    "\n",
    "In the visualisation above we made the assumption that all documents with more than one creator represent some sort of communication. To improve the quality of our analysis we could have started by filtering our data so we only included documents which `type` indicated some form of exchange, such as 'letter', 'telephone conversation' and so on."
   ]
  },
  {
   "cell_type": "markdown",
   "metadata": {},
   "source": [
    "## 4. Conclusion\n",
    "The methods introduced in this notebook let us work with the data in new ways.\n",
    "\n",
    "Both relative frequencies and network analysis can reveal a lot of insight into our data. These methods can be combined with other tools such as the previously introduced `filter_frame()` function, in order to tailor the results to our specific needs."
   ]
  }
 ],
 "metadata": {
  "kernelspec": {
   "display_name": "Python 3",
   "language": "python",
   "name": "python3"
  },
  "language_info": {
   "codemirror_mode": {
    "name": "ipython",
    "version": 3
   },
   "file_extension": ".py",
   "mimetype": "text/x-python",
   "name": "python",
   "nbconvert_exporter": "python",
   "pygments_lexer": "ipython3",
   "version": "3.6.8"
  }
 },
 "nbformat": 4,
 "nbformat_minor": 2
}
