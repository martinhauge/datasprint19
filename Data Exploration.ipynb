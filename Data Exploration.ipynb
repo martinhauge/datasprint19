{
 "cells": [
  {
   "cell_type": "markdown",
   "metadata": {},
   "source": [
    "# Data Exploration\n",
    "\n",
    "This notebook guides you through the initial steps of data exploration using Python 3 and Jupyter Notebooks.\n",
    "\n",
    "We will cover the basics of working in Jupyter Notebooks by first importing the required libraries and loading the data. Then we will proceed by exploring the data with different helper functions before finally creating a basic data visualisation. Along the way we will cover some Python fundamentals as well."
   ]
  },
  {
   "cell_type": "markdown",
   "metadata": {},
   "source": [
    "## 1. Import libraries\n",
    "Before we can inspect the data, we need to import a number of libraries.\n",
    "\n",
    "The `pandas` package is fundamental for data analysis in Python and adds a lot of convenient functionality. Other helpful tools are imported as well.\n",
    "\n",
    "To run the code in the cell below, hightlight the cell and press CTRL + ENTER. Alternatively, to run the code and select the cell below press SHIFT + ENTER. While a cell is running an asterisk appears to the left of the cell. Once it has completed the asterisk changes to a number."
   ]
  },
  {
   "cell_type": "code",
   "execution_count": null,
   "metadata": {},
   "outputs": [],
   "source": [
    "import pandas as pd\n",
    "from basic_tools import counter, filter_frame"
   ]
  },
  {
   "cell_type": "markdown",
   "metadata": {},
   "source": [
    "We use the `import` statement to make the entire pandas library available to use. Conversely, we only import two specific functions from `basic_tools`.\n",
    "\n",
    "By convention, `pandas` is imported under the name `pd`. This makes referencing the package easier compared to typing out the full name every time."
   ]
  },
  {
   "cell_type": "markdown",
   "metadata": {},
   "source": [
    "## 2. Load data"
   ]
  },
  {
   "cell_type": "markdown",
   "metadata": {},
   "source": [
    "Once our libraries are imported we can load in our data.\n",
    "\n",
    "We specify the path to the CSV-file we want to load in the variable `data_file`. Then we use the pandas method `read_csv()` to load the file into a DataFrame object and save it to a variable (again, by convention) named `df`.\n",
    "\n",
    "NOTE: Jupyter can detect available files and folders if you start typing the name and press TAB."
   ]
  },
  {
   "cell_type": "code",
   "execution_count": null,
   "metadata": {},
   "outputs": [],
   "source": [
    "# Absolute or relative path to CSV-file on your computer.\n",
    "data_file = '../dataframe_with_texts.csv'\n",
    "\n",
    "df = pd.read_csv(data_file)"
   ]
  },
  {
   "cell_type": "markdown",
   "metadata": {},
   "source": [
    "The variable name `df` is often used for often DataFrame objects but we are free to name it anything we would like."
   ]
  },
  {
   "cell_type": "markdown",
   "metadata": {},
   "source": [
    "## 3. Explore the data\n",
    "Now that are data are loaded we can start exploring them.\n",
    "\n",
    "There are numerous approaches to this process. We start by simply returning the entire DataFrame."
   ]
  },
  {
   "cell_type": "code",
   "execution_count": null,
   "metadata": {},
   "outputs": [],
   "source": [
    "df"
   ]
  },
  {
   "cell_type": "markdown",
   "metadata": {},
   "source": [
    "While this command lets us inspect the structure of the data, it is not very useful on its own."
   ]
  },
  {
   "cell_type": "markdown",
   "metadata": {},
   "source": [
    "### 3.1 Count occurences\n",
    "Instead, we might want to count occurences of specific terms in the data. The `counter()` function lets us pass the DataFrame and a column name and returns the counts of all items in that column.\n",
    "\n",
    "To get a list of the column names in the DataFrame run the code below."
   ]
  },
  {
   "cell_type": "code",
   "execution_count": null,
   "metadata": {},
   "outputs": [],
   "source": [
    "df.columns"
   ]
  },
  {
   "cell_type": "markdown",
   "metadata": {},
   "source": [
    "Surrounded by some metadata, between the square brackets, we find the list of column names. In pandas, column names are usually strings (of datatype `str`). This means they should be enclosed by quotes (single or double).\n",
    "\n",
    "Once we have decided on a column to inspect, we can pass the DataFrame and the name of the column to count (in quotes) to the `counter()` function. Below we ask the `counter()` function to return the counts of all the languages used in the data."
   ]
  },
  {
   "cell_type": "code",
   "execution_count": null,
   "metadata": {},
   "outputs": [],
   "source": [
    "counter(df, 'language')"
   ]
  },
  {
   "cell_type": "markdown",
   "metadata": {},
   "source": [
    "In case we get a lot of the data back, we can limit the result in various ways.\n",
    "\n",
    "For instance, we can ask for all the locations that occur in minimum 5 documents by using the `min_val` parameter."
   ]
  },
  {
   "cell_type": "code",
   "execution_count": null,
   "metadata": {},
   "outputs": [],
   "source": [
    "counter(df, 'locations', min_val=5)"
   ]
  },
  {
   "cell_type": "markdown",
   "metadata": {},
   "source": [
    "To learn more about specific objects and their options use the built-in `help()` function."
   ]
  },
  {
   "cell_type": "code",
   "execution_count": null,
   "metadata": {},
   "outputs": [],
   "source": [
    "help(counter)"
   ]
  },
  {
   "cell_type": "markdown",
   "metadata": {},
   "source": [
    "### 3.2 Filter the data\n",
    "\n",
    "We can limit our DataFrame by using the `filter_frame` function.\n",
    "\n",
    "This function filters the data based on the occurence of a specific term. Below we create a new DataFrame of documents where the term _border security_ occurs in the subjects field. Again we pass the argument as a string by surrounding it by quotes."
   ]
  },
  {
   "cell_type": "code",
   "execution_count": null,
   "metadata": {},
   "outputs": [],
   "source": [
    "filter_frame(df, 'border security')"
   ]
  },
  {
   "cell_type": "markdown",
   "metadata": {},
   "source": [
    "By default, `filter_frame()` looks for the passed term in the subjects field. However, we can search any column of the DataFrame by passing the column name as the third argument or as the keyword argument `col`.\n",
    "\n",
    "For instance, we can search the data for all documents of type _telegram_."
   ]
  },
  {
   "cell_type": "code",
   "execution_count": null,
   "metadata": {},
   "outputs": [],
   "source": [
    "telegrams = filter_frame(df, 'telegram', col='type')"
   ]
  },
  {
   "cell_type": "markdown",
   "metadata": {},
   "source": [
    "Notice that this time, we saved the output of `filter_frame()` to a variable. This allow us to use to use the output again without calling `filter_frame()` each time.\n",
    "\n",
    "For instance, we can use the built-in `len()` function to calculate the length of `telegrams` - i.e. count the number of documents."
   ]
  },
  {
   "cell_type": "code",
   "execution_count": null,
   "metadata": {},
   "outputs": [],
   "source": [
    "number_of_telegrams = len(telegrams)"
   ]
  },
  {
   "cell_type": "markdown",
   "metadata": {},
   "source": [
    "We can then use the built-in `print()` function to print out a string based on our `number_of_telegrams` variable."
   ]
  },
  {
   "cell_type": "code",
   "execution_count": null,
   "metadata": {},
   "outputs": [],
   "source": [
    "print('There are', number_of_telegrams, 'telegrams in this collection.')"
   ]
  },
  {
   "cell_type": "markdown",
   "metadata": {},
   "source": [
    "There are numerous ways of formatting the output for `print()`. The simplest way is to pass each part of the output as an argument (separated by commas). `print()` will then attempt to combine each argument into a single string and print it to the console."
   ]
  },
  {
   "cell_type": "markdown",
   "metadata": {},
   "source": [
    "### 3.3 Combine the functions"
   ]
  },
  {
   "cell_type": "markdown",
   "metadata": {},
   "source": [
    "We can combine `counter()` and `filter_frame()` if we want to count occurences on only a subset of the data. Instead of passing our entire DataFrame to `counter()` as previously, we pass a filtered DataFrame returned by `filter_frame()`.\n",
    "\n",
    "Below we extract the most discussed locations in English and Russian documents, respectively. Note that we use the `top` parameter to limit our search to only the 5 most frequently occuring locations for each language."
   ]
  },
  {
   "cell_type": "code",
   "execution_count": null,
   "metadata": {},
   "outputs": [],
   "source": [
    "english_docs = filter_frame(df, 'English', 'language')\n",
    "\n",
    "english_locations = counter(english_docs, 'locations', top=5)\n",
    "\n",
    "# Same as above but on a single line\n",
    "russian_locations = counter(filter_frame(df, 'Russian', 'language'), 'locations', top=5)\n",
    "\n",
    "print('Most frequent locations from English documents:')\n",
    "print(english_locations)\n",
    "\n",
    "print('Most frequent locations from Russian documents:')\n",
    "print(russian_locations)"
   ]
  },
  {
   "cell_type": "markdown",
   "metadata": {},
   "source": [
    "Notice that `english_locations` and `russian_locations` are calculated in the same way, even though the code is slightly different. To get the English locations we first filter our data and save the result to the variable `english_docs`. We then pass that variable as the first argument to `counter()`. For the Russian documents, we skip the variable and pass the `filter_frame()` function directly to `counter()`.\n",
    "\n",
    "Both methods are equally valid and works in the same way. The first method requires a bit more code but is easier to read. The second method is more space efficient but may harder to comprehend - especially if you are not sure what the code is suppose to do beforehand.\n",
    "\n",
    "By combining `counter()` and `filter_frame()` we can collect a lot of interesting information from our data."
   ]
  },
  {
   "cell_type": "markdown",
   "metadata": {},
   "source": [
    "## 4. Data visualisation\n",
    "In order to get a better understanding of the data we can visualise it with the helper function `data_plot`. We import the function from the `viz_tools` module."
   ]
  },
  {
   "cell_type": "code",
   "execution_count": null,
   "metadata": {},
   "outputs": [],
   "source": [
    "from viz_tools import counts_plot"
   ]
  },
  {
   "cell_type": "markdown",
   "metadata": {},
   "source": [
    "To visualise our counts data we pass it as the first argument to `counts_plot()`. Optionally, we can give the plot a title by passing a string as the keyword argument `title`."
   ]
  },
  {
   "cell_type": "code",
   "execution_count": null,
   "metadata": {},
   "outputs": [],
   "source": [
    "counts_plot(russian_locations, title='Locations from Russian documents')"
   ]
  },
  {
   "cell_type": "markdown",
   "metadata": {},
   "source": [
    "This basic plot is one the simplest visualisation we can make with Python. For more advanced plotting please see the Data Visualisation Notebook."
   ]
  },
  {
   "cell_type": "markdown",
   "metadata": {},
   "source": [
    "## 5. Conclusion\n",
    "This concludes the Data Exploration introduction.\n",
    "\n",
    "We have covered how to setup our programming environment by importing different libraries and helper functions and load our data into a DataFrame object. We have explored the data with the two helper functions `counter()` and `filter_frame()`, and we have used some of the insights we have gained to create a basic visualisation.\n",
    "\n",
    "Feel free to continue on your own below or start a new Notebook from scratch."
   ]
  },
  {
   "cell_type": "markdown",
   "metadata": {},
   "source": [
    "## Useful keyboard shortcuts\n",
    "- To create more cells press A (above) or B (below).\n",
    "- To change the cell to a Markdown cell press M.\n",
    "- To change the cell back to a Code cell press Y.\n",
    "- To edit a cell press Enter\n",
    "- To stop editing a cell press Esc\n",
    "- For more keyboard shortcuts press H."
   ]
  }
 ],
 "metadata": {
  "kernelspec": {
   "display_name": "Python 3",
   "language": "python",
   "name": "python3"
  },
  "language_info": {
   "codemirror_mode": {
    "name": "ipython",
    "version": 3
   },
   "file_extension": ".py",
   "mimetype": "text/x-python",
   "name": "python",
   "nbconvert_exporter": "python",
   "pygments_lexer": "ipython3",
   "version": "3.6.8"
  }
 },
 "nbformat": 4,
 "nbformat_minor": 2
}
