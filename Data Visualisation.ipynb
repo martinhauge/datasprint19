{
 "cells": [
  {
   "cell_type": "markdown",
   "metadata": {},
   "source": [
    "# Data Visualisation\n",
    "This Notebook focuses on visualisation of data with Python.\n",
    "\n",
    "We start out with some basic plots by using helper functions with limited options. We then briefly explore the possibilities of interactive plotting before turning to more customisable plotting with the `matplotlib` library. In the last section we will also utilise some of the functionality of `pandas` to process our data."
   ]
  },
  {
   "cell_type": "markdown",
   "metadata": {},
   "source": [
    "## 1. Import libraries\n",
    "First we import some useful libraries. The `pandas` package is used to handle the data."
   ]
  },
  {
   "cell_type": "code",
   "execution_count": null,
   "metadata": {},
   "outputs": [],
   "source": [
    "import pandas as pd\n",
    "from basic_tools import counter, filter_frame\n",
    "from viz_tools import counts_plot"
   ]
  },
  {
   "cell_type": "markdown",
   "metadata": {},
   "source": [
    "## 2. Load data\n",
    "We use `pandas` to load the data into a DataFrame object and store it in the variable `df`."
   ]
  },
  {
   "cell_type": "code",
   "execution_count": null,
   "metadata": {},
   "outputs": [],
   "source": [
    "# Absolute or relative path to CSV-file on your computer.\n",
    "data_file = '../dataframe_with_texts.csv'\n",
    "\n",
    "df = pd.read_csv(data_file)"
   ]
  },
  {
   "cell_type": "markdown",
   "metadata": {},
   "source": [
    "## 3. Basic data visualisation"
   ]
  },
  {
   "cell_type": "markdown",
   "metadata": {},
   "source": [
    "### 3.1 Working with `counts_plot()`\n",
    "As seen previously we can use the `counter()` function to create a dictionary of counts of any of the columns of the DataFrame.\n",
    "\n",
    "#### 3.1.1 Labels\n",
    "Here we ask `counter()` to return counts of all locations and pass the variable to `counts_plot()` as the first argument. We also give the plot a title using the `title` keyword argument."
   ]
  },
  {
   "cell_type": "code",
   "execution_count": null,
   "metadata": {},
   "outputs": [],
   "source": [
    "locations = counter(df, 'locations', top=15)\n",
    "\n",
    "counts_plot(locations, title='Locations')"
   ]
  },
  {
   "cell_type": "markdown",
   "metadata": {},
   "source": [
    "By default, `counts_plot()` rotates the labels of the X-axis by 45 degrees as this is usually the best compromise between readability and spacing. However, for plots with many, long labels, like above, the readability suffers.\n",
    "\n",
    "We can change the rotation of the labels by passing the angle as the keyword argument `r`. Note that when we work with integers (datatype `int`), we do not need quotes. If we did use quotes (e.g. `'90'`), Python would treat our number as a string and the functionality would be different.\n",
    "\n",
    "#### 3.3.2 Adding colour\n",
    "In order to customise the plot a bit further, we can pass a colour as the keyword argument `c`."
   ]
  },
  {
   "cell_type": "code",
   "execution_count": null,
   "metadata": {},
   "outputs": [],
   "source": [
    "counts_plot(locations, title='Locations', r=90, c='yellow')"
   ]
  },
  {
   "cell_type": "markdown",
   "metadata": {},
   "source": [
    "Basic colours can passed by using their name. For a comprehensive list of acceptable colour names, see the [matplotlib Documentation](https://matplotlib.org/3.1.0/gallery/color/named_colors.html).\n",
    "\n",
    "\n",
    "#### 3.3.3 Horizontal plotting\n",
    "Sometimes a horizontal plot may be more suitable for our data. We can achieve this with the `horizontal` keyword by passing the Boolean value `True`."
   ]
  },
  {
   "cell_type": "code",
   "execution_count": null,
   "metadata": {},
   "outputs": [],
   "source": [
    "counts_plot(locations, title='Locations', horizontal=True)"
   ]
  },
  {
   "cell_type": "markdown",
   "metadata": {},
   "source": [
    "**NOTE:** The order of keyword arguments does not matter. On the other hand, as the name implies, positional arguments (arguments without keywords) need to be passed in the correct order for the function to parse them correctly. In the code above, `locations` is a positional argument, while `title`, `r`, `c` and `horizontal` are all keyword arguments."
   ]
  },
  {
   "cell_type": "markdown",
   "metadata": {},
   "source": [
    "### 3.2 Interactive plotting\n",
    "By default, the plots we create in Jupyter are static and we cannot modify them once they are drawn.\n",
    "\n",
    "To make our plots interactive, we can use the built-in _magic_ command `%matplotlib notebook`."
   ]
  },
  {
   "cell_type": "code",
   "execution_count": null,
   "metadata": {},
   "outputs": [],
   "source": [
    "%matplotlib notebook"
   ]
  },
  {
   "cell_type": "markdown",
   "metadata": {},
   "source": [
    "If the command above does not return any error messages, plots are now interactive. We can zoom, pan and change the size of the plot. We can also easily save the plot as an image. Try below."
   ]
  },
  {
   "cell_type": "code",
   "execution_count": null,
   "metadata": {},
   "outputs": [],
   "source": [
    "counts_plot(counter(df, 'language', top=5), title='Document languages', r=0, c='teal')"
   ]
  },
  {
   "cell_type": "markdown",
   "metadata": {},
   "source": [
    "The plot remains active until we lock it by pressing the I/O symbol. Once it is turned off no more changes can be made unless we run the code again.\n",
    "\n",
    "**NOTE:** When a plot is active and another plot is generated from a different cell, these are plotted to the same space. While this can be useful at times, it can also have unintended consequences. To avoid these, make sure to lock the plot once you are satisfied with it.\n",
    "\n",
    "To return to static plotting, use `%matplotlib inline` as below."
   ]
  },
  {
   "cell_type": "code",
   "execution_count": null,
   "metadata": {},
   "outputs": [],
   "source": [
    "%matplotlib inline"
   ]
  },
  {
   "cell_type": "markdown",
   "metadata": {},
   "source": [
    "To learn more about _magic_ commands run `%magic` or visit the [Documentation](https://ipython.readthedocs.io/en/stable/interactive/magics.html)."
   ]
  },
  {
   "cell_type": "markdown",
   "metadata": {},
   "source": [
    "## 4. Plotting with `matplotlib`\n",
    "Most visualisations made with Python are created with the `matplotlib` package and it is a very powerful tool. In fact, the `counts_plot()` function is built right on top of `matplotlib` and merely passes information to the right places.\n",
    "\n",
    "If we want to gain full control of our plots, we should work with `matplotlib` directly. Initially, it is going to be a bit more complicated but the pay-off will be worth the effort.\n",
    "\n",
    "First we need to import the package before we can use it. `matplotlib` is a very comprehensive package and for now only need the subsection named `pyplot`. By convention, we import it under the name `plt`. The shorter name is convenient as we are going to reference the package a lot."
   ]
  },
  {
   "cell_type": "code",
   "execution_count": null,
   "metadata": {},
   "outputs": [],
   "source": [
    "import matplotlib.pyplot as plt"
   ]
  },
  {
   "cell_type": "markdown",
   "metadata": {},
   "source": [
    "### 4.1 The simplest plot\n",
    "The simplest plot we can make with `matplotlib` is a line plot. We use the `plot` method and pass a list of (made-up) numbers to it. We display the plot by calling `plt.show()`.\n",
    "\n",
    "**NOTE:** When using an interactive shell like Jupyter, we do not strictly need to use `plt.show()` - our plots will be displayed either. However, if we omit `plt.show()` the code cell will return the output of the last function call and that can sometimes clutter our view."
   ]
  },
  {
   "cell_type": "code",
   "execution_count": null,
   "metadata": {},
   "outputs": [],
   "source": [
    "numbers = [2, 1, 5, 2]\n",
    "\n",
    "plt.plot(numbers)\n",
    "\n",
    "plt.show()"
   ]
  },
  {
   "cell_type": "markdown",
   "metadata": {},
   "source": [
    "**NOTE:** In Python, lists are characterised by enclosing square brackets and commas separating the values. Lists can contain any type of data (e.g. strings, integers, other lists) and the datatypes can be mixed within a single list. For plotting purposes we will mostly work with lists of numeric data but lists of strings are also useful for labels, legends and other descriptions."
   ]
  },
  {
   "cell_type": "markdown",
   "metadata": {},
   "source": [
    "### 4.2 Plotting real data\n",
    "In order to unleash the potential of `matplotlib` on our DataFrame we need to calculate some data we can plot.\n",
    "\n",
    "For instance, we can calculate the average word lengths of each document in our DataFrame. `pandas` support vector-based calculations, which means we can operate on entire columns (or vectors) at once.\n",
    "\n",
    "In the cell below, a lot of things are happening in a relatively little amount of code.\n",
    "\n",
    "- We reference the text column of our DataFrame with square bracket notation: `df['text']`\n",
    "- We access the `pandas` `str` accessor, which provides a lot of tools for working with textual data (strings).\n",
    "- One of these tools is the `len()` method, which will return the number of characters in each cell.\n",
    "- The data are returned as a `pandas` Series object, which is similar to a list but with additional functionality, and this object is stored in the variable `character_counts`.\n",
    "- Similarly, we use the `str` method `split()` to divide our strings of text into lists of words and store the returned Series in the `words` variable.\n",
    "- Then we use the `len()` method again to count the number of words and save the output to `word_counts`. When used on lists instead of strings `len()` will return the number of items in the lists instead of the number of characters in the strings.\n",
    "- Finally, we calculate the average word lengths by simply dividing the character counts with the word counts and store the values in the variable `avg_word_len`."
   ]
  },
  {
   "cell_type": "code",
   "execution_count": null,
   "metadata": {},
   "outputs": [],
   "source": [
    "character_counts = df['text'].str.len()\n",
    "\n",
    "words = df['text'].str.split()\n",
    "word_counts = words.str.len()\n",
    "\n",
    "\n",
    "avg_word_len = character_counts / word_counts"
   ]
  },
  {
   "cell_type": "markdown",
   "metadata": {},
   "source": [
    "We can now plot our average word length data using `plt.plot()`.\n",
    "\n",
    "To get a bigger plotting area, we change the size with before plotting the data with `plt.figure(figsize=(width, height))`.\n",
    "\n",
    "Additionally, we add some information to the plot with the `title()`, `xlabel()` and `ylabel()` methods."
   ]
  },
  {
   "cell_type": "code",
   "execution_count": null,
   "metadata": {},
   "outputs": [],
   "source": [
    "# If we want a differently sized plotting area, we specify the width and the height\n",
    "# before plotting the data.\n",
    "plt.figure(figsize=(8, 6))\n",
    "\n",
    "# The plot method adds the data to the plot. Optionally, we also specify a colour for the plot.\n",
    "plt.plot(avg_word_len, color='green')\n",
    "\n",
    "# We use various methods to customise our plot with additional information.\n",
    "plt.title('Word length')\n",
    "plt.xlabel('Document index')\n",
    "plt.ylabel('Avg. word length')\n",
    "\n",
    "plt.show()"
   ]
  },
  {
   "cell_type": "markdown",
   "metadata": {},
   "source": [
    "### 4.2 The bar plot"
   ]
  },
  {
   "cell_type": "markdown",
   "metadata": {},
   "source": [
    "Line plots are great for working with time-series and other continuous data. When plotting categorical data, a bar plot may be more suitable.\n",
    "\n",
    "Below we calculate average word lengths as before. But instead plotting the average word lengths of all documents we use the `filter_frame()` function to create two new DataFrames based on documents types. We then calculate the average word lengths across those DataFrames and plot them against each other."
   ]
  },
  {
   "cell_type": "code",
   "execution_count": null,
   "metadata": {},
   "outputs": [],
   "source": [
    "# Create a new DataFrame with documents of type 'cable'.\n",
    "cable = filter_frame(df, 'cable', col='type')\n",
    "\n",
    "# Count the number of characters for each cell in the 'text' column.\n",
    "cable_character_counts = cable['text'].str.len()\n",
    "\n",
    "# Split the cells of the cells of the 'text' column before counting the number of words.\n",
    "cable_words = cable['text'].str.split()\n",
    "cable_word_counts = cable_words.str.len()\n",
    "\n",
    "# Calculate the average characters per word for each document in the new DataFrame.\n",
    "cable_word_len = cable_character_counts / cable_word_counts\n",
    "\n",
    "# Reduce the calculated word lengths to a single average value for the entire DataFrame\n",
    "cable_avg_word_len = cable_word_len.mean()\n",
    "\n",
    "# Repeat the process with documents of type 'report'.\n",
    "report = filter_frame(df, 'report', col='type')\n",
    "\n",
    "report_character_counts = report['text'].str.len()\n",
    "\n",
    "report_words = report['text'].str.split()\n",
    "report_word_counts = report_words.str.len()\n",
    "\n",
    "report_word_len = report_character_counts / report_word_counts\n",
    "\n",
    "report_avg_word_len = report_word_len.mean()"
   ]
  },
  {
   "cell_type": "markdown",
   "metadata": {},
   "source": [
    "We use the `bar()` method to add the values one at the time with our label as the X-value and the average word length as the Y-value."
   ]
  },
  {
   "cell_type": "code",
   "execution_count": null,
   "metadata": {},
   "outputs": [],
   "source": [
    "plt.bar('Reports', report_avg_word_len)\n",
    "plt.bar('Cables', cable_avg_word_len)\n",
    "\n",
    "# We limit the range of the Y-axis to enhance the differences in the plotted values.\n",
    "plt.ylim(5, 7)\n",
    "\n",
    "plt.show()"
   ]
  },
  {
   "cell_type": "markdown",
   "metadata": {},
   "source": [
    "Notice that because we added the values separately, they are treated as two different plots and are given two different colours.\n",
    "\n",
    "To treat them as a single plot, we can collect the X-values and Y-values into lists before adding them to the plot as shown below.\n",
    "\n",
    "Alternatively, we can specify the colour of the plot with the `color` keyword parameter."
   ]
  },
  {
   "cell_type": "code",
   "execution_count": null,
   "metadata": {},
   "outputs": [],
   "source": [
    "x_values = ['Reports', 'Cables']\n",
    "y_values = [report_avg_word_len, cable_avg_word_len]\n",
    "\n",
    "plt.bar(x_values, y_values)\n",
    "\n",
    "plt.ylim(5, 7)\n",
    "\n",
    "plt.show()"
   ]
  },
  {
   "cell_type": "markdown",
   "metadata": {},
   "source": [
    "You might have noticed that in the previous example, we repeated a lot of similar code.\n",
    "\n",
    "In order to apply the same calculations to a number of different values, we can utilise a `for` loop.\n",
    "\n",
    "Below we attempt to illustrate differences in average word lengths between languages. First we identify the different languages and store them as a list. We also create an empty list which we can append our average word length values to as we calculate them.\n",
    "\n",
    "We use the `for` loop to iterate over the values in the list of languages. For each value we:\n",
    "- Create a DataFrame with only documents of that specific language.\n",
    "- Calculate the average word length.\n",
    "- Append the value to the `language_word_lengths` list."
   ]
  },
  {
   "cell_type": "code",
   "execution_count": null,
   "metadata": {},
   "outputs": [],
   "source": [
    "# Get list of unique languages from DataFrame.\n",
    "languages = df['language'].unique()\n",
    "\n",
    "# Create empty list, which can later store our avg. word lengths.\n",
    "language_word_lengths = list()\n",
    "\n",
    "# Use a for loop to get the counts for each language in the list of unique languages.\n",
    "for language in languages:\n",
    "    # Create new temporary DataFrame for the specific langauge.\n",
    "    language_frame = filter_frame(df, language, col='language')\n",
    "    \n",
    "    # Count the characters.\n",
    "    language_character_counts = language_frame['text'].str.len()\n",
    "    \n",
    "    # Count the words.\n",
    "    language_words = language_frame['text'].str.split()\n",
    "    language_word_counts = language_words.str.len()\n",
    "    \n",
    "    # Calculate avg. word length for the individual documents.\n",
    "    language_word_len = language_character_counts / language_word_counts\n",
    "    \n",
    "    # Get the overall average value of all the document avg. word lengths.\n",
    "    language_avg_word_len = language_word_len.mean()\n",
    "    \n",
    "    # Finally, we append the overall avg. word length for this language to the list of word lengths.\n",
    "    language_word_lengths.append(language_avg_word_len)"
   ]
  },
  {
   "cell_type": "markdown",
   "metadata": {},
   "source": [
    "Now we have all the languages stored in the list `languages` and the corresponding avg. word lengths stored in the list `language_word_lengths`.\n",
    "\n",
    "We visualise the data in a bar plot by passing the languages as the X-axis and the word lengths as the Y-axis."
   ]
  },
  {
   "cell_type": "code",
   "execution_count": null,
   "metadata": {},
   "outputs": [],
   "source": [
    "plt.bar(languages, language_word_lengths)\n",
    "\n",
    "# To rotate the tick labels on the X-axis we explicitly add the labels and define the rotation.\n",
    "plt.xticks(languages, rotation=45)\n",
    "\n",
    "plt.show()"
   ]
  },
  {
   "cell_type": "markdown",
   "metadata": {},
   "source": [
    "Using a `for` loop can save us lot of code - especially as our datasets get bigger. The plot above requires the same amount of code whether we have 5 values or 500 values.\n",
    "\n",
    "As a final example, the code below performs the same calculations. But instead of using a `for` loop, we use the built-in functionality of `pandas`."
   ]
  },
  {
   "cell_type": "code",
   "execution_count": null,
   "metadata": {},
   "outputs": [],
   "source": [
    "# Calculate character counts and word counts and add them as columns to the DataFrame\n",
    "df['word_count'] = df['text'].str.split().str.len()\n",
    "df['char_count'] = df['text'].str.len()\n",
    "\n",
    "# Add a column with avg. word lengths\n",
    "df['avg_word_len'] = df['char_count'] / df['word_count']\n",
    "\n",
    "# Use the groupby method to group the rows of our DataFrame by language\n",
    "alt_languages = df.groupby('language')\n",
    "\n",
    "# Calculate the overall avg. word lengths of the grouped data.\n",
    "alt_word_lengths = alt_languages['avg_word_len'].mean()"
   ]
  },
  {
   "cell_type": "markdown",
   "metadata": {},
   "source": [
    "The main difference is the `groupby()` method. By gathering all of our calculations in the same DataFrame we can perform a number of tasks across groups of data. This is a very powerful tool but the code can also quickly get more complex and convoluted.\n",
    "\n",
    "For the data we are going to work with either method will get the job done.\n",
    "\n",
    "Finally, to check that we get the same results, we plot the data. The language names for the X-axis can be accessed with the `index` method, while we pass the `alt_word_lengths` variable as the Y-values."
   ]
  },
  {
   "cell_type": "code",
   "execution_count": null,
   "metadata": {
    "scrolled": true
   },
   "outputs": [],
   "source": [
    "plt.bar(alt_word_lengths.index, alt_word_lengths)\n",
    "\n",
    "plt.xticks(alt_word_lengths.index, rotation=45)\n",
    "\n",
    "# We limit the Y-axis to start at 90 % of the smallest value in word_lengths\n",
    "# in order to focus on the differences in the data.\n",
    "min_y_value = min(alt_word_lengths) * .90\n",
    "plt.ylim(min_y_value)\n",
    "\n",
    "plt.show()"
   ]
  },
  {
   "cell_type": "markdown",
   "metadata": {},
   "source": [
    "Notice that instead of hard-coding the Y-axis starting point, we used the built-in function `min()` to find the smallest value in the data and defined the `min_y_value` variable as 90 % of that value. That way we can limit the Y-axis without necessarily knowing the span of our values prior to plotting."
   ]
  },
  {
   "cell_type": "markdown",
   "metadata": {},
   "source": [
    "## 5. Conclusion"
   ]
  },
  {
   "cell_type": "markdown",
   "metadata": {},
   "source": [
    "This concludes the Data Visualisation Notebook. We have covered a lot of ground and as you have seen, the code can quickly become more complex - especially when working directly with libraries such as `pandas` and `matplotlib` because the possibilities are virtually endless.\n",
    "\n",
    "For now we have just scratched the surface and hopefully you feel comfortable attempting to transfer these methods to other data sets and types of analyses.\n",
    "\n",
    "Notice that some of these analyses are simplified for the sake of the example. For instance, when calculating average word lengths you would probably want to apply some data cleaning beforehand in order to account for punctuation and other types of noise in the texts. Also, our comparison of word lengths across languages makes little sense when all of our text data are translated into English."
   ]
  }
 ],
 "metadata": {
  "kernelspec": {
   "display_name": "Python 3",
   "language": "python",
   "name": "python3"
  },
  "language_info": {
   "codemirror_mode": {
    "name": "ipython",
    "version": 3
   },
   "file_extension": ".py",
   "mimetype": "text/x-python",
   "name": "python",
   "nbconvert_exporter": "python",
   "pygments_lexer": "ipython3",
   "version": "3.6.8"
  }
 },
 "nbformat": 4,
 "nbformat_minor": 2
}
