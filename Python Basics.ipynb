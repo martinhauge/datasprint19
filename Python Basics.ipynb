{
 "cells": [
  {
   "cell_type": "markdown",
   "metadata": {},
   "source": [
    "# A Very Brief Introduction to Python"
   ]
  },
  {
   "cell_type": "markdown",
   "metadata": {},
   "source": [
    "This is a very brief introduction to Python, which will help you get started.\n",
    "\n",
    "It will touch upon the topics of the command line, variables, data types in Python and functions."
   ]
  },
  {
   "cell_type": "markdown",
   "metadata": {},
   "source": [
    "## The command line\n",
    "\n",
    "When working in an interactive programming environment, such as Jupyter, Python commands are executed from the command line. In Jupyter the command line is located in code cells as the one below."
   ]
  },
  {
   "cell_type": "code",
   "execution_count": null,
   "metadata": {},
   "outputs": [],
   "source": []
  },
  {
   "cell_type": "markdown",
   "metadata": {},
   "source": [
    "We can type out code in the command line and run the cell to execute the code.\n",
    "\n",
    "Below we type in a mathematical expression. Python evaluates the input and returns the result as the output."
   ]
  },
  {
   "cell_type": "code",
   "execution_count": null,
   "metadata": {},
   "outputs": [],
   "source": [
    "3 + 3"
   ]
  },
  {
   "cell_type": "markdown",
   "metadata": {},
   "source": [
    "## Variables\n",
    "In order to store and reuse the output, we get from Python, we can use variables.\n",
    "\n",
    "Variables let us store values so we can reference them at a later point."
   ]
  },
  {
   "cell_type": "code",
   "execution_count": null,
   "metadata": {},
   "outputs": [],
   "source": [
    "x = 10"
   ]
  },
  {
   "cell_type": "markdown",
   "metadata": {},
   "source": [
    "We now have a variable named `x` with the value 10 stored inside.\n",
    "\n",
    "To make sure, we can check that the value of `x` is 10 by typing `x` in the command line."
   ]
  },
  {
   "cell_type": "code",
   "execution_count": null,
   "metadata": {},
   "outputs": [],
   "source": [
    "x"
   ]
  },
  {
   "cell_type": "markdown",
   "metadata": {},
   "source": [
    "Whenever the name of a variable is typed in the command line, the value of the variable will be returned as the output.\n",
    "\n",
    "Variables allow us to perform all sort of operations. Below we define a new variable `y` and assign it the value 5."
   ]
  },
  {
   "cell_type": "code",
   "execution_count": null,
   "metadata": {},
   "outputs": [],
   "source": [
    "y = 5"
   ]
  },
  {
   "cell_type": "markdown",
   "metadata": {},
   "source": [
    "Just as we started out adding two numbers together, we can do the same with variables holding numbers."
   ]
  },
  {
   "cell_type": "code",
   "execution_count": null,
   "metadata": {},
   "outputs": [],
   "source": [
    "x + y"
   ]
  },
  {
   "cell_type": "markdown",
   "metadata": {},
   "source": [
    "Similarly, we can save the sum of our two variables to a new variable for later use."
   ]
  },
  {
   "cell_type": "code",
   "execution_count": null,
   "metadata": {},
   "outputs": [],
   "source": [
    "z = x + y"
   ]
  },
  {
   "cell_type": "markdown",
   "metadata": {},
   "source": [
    "## Data types\n",
    "\n",
    "Python includes a number of different data types, which have different properties.\n",
    "\n",
    "### `int`\n",
    "In the previous section, we encountered one of these data types: integers. Integers are whole numbers recognised by Python as the data type `int`.\n",
    "\n",
    "We can check the data type with the `type()` command."
   ]
  },
  {
   "cell_type": "code",
   "execution_count": null,
   "metadata": {},
   "outputs": [],
   "source": [
    "type(x)"
   ]
  },
  {
   "cell_type": "markdown",
   "metadata": {},
   "source": [
    "Our variable `x` containing the value 10 is, indeed, an integer.\n",
    "\n",
    "### `float`\n",
    "Related to integers are the data type `float` or floating point values. Floats are numeric decimal values such as 0.1, 4.95 and 10.0.\n",
    "\n",
    "Unlike some other programming languages, Python supports operations that include both integers and floats. This allow us to perform calculations as the one below without converting the numbers to the same data type first."
   ]
  },
  {
   "cell_type": "code",
   "execution_count": null,
   "metadata": {},
   "outputs": [],
   "source": [
    "1 + 1.5"
   ]
  },
  {
   "cell_type": "markdown",
   "metadata": {},
   "source": [
    "### `str`\n",
    "\n",
    "Until know we have only looked at numeric data types. We can store textual data as strings with the datatype `str`.\n",
    "\n",
    "String values are surrounded by quotes - either single or double - and they can contain characters, words, sentences and any other type of text. Below we print a string of text to the screen."
   ]
  },
  {
   "cell_type": "code",
   "execution_count": null,
   "metadata": {},
   "outputs": [],
   "source": [
    "print('Hello World')"
   ]
  },
  {
   "cell_type": "markdown",
   "metadata": {},
   "source": [
    "Just like with numbers, we can also perform various operations with strings."
   ]
  },
  {
   "cell_type": "code",
   "execution_count": null,
   "metadata": {},
   "outputs": [],
   "source": [
    "a = 'Data'\n",
    "b = 'sprint'\n",
    "\n",
    "print(a + b)"
   ]
  },
  {
   "cell_type": "markdown",
   "metadata": {},
   "source": [
    "Notice that numbers also can be stored as strings. Thats why we get different outputs for the two expressions in the cell below."
   ]
  },
  {
   "cell_type": "code",
   "execution_count": null,
   "metadata": {},
   "outputs": [],
   "source": [
    "print(10 * 3)\n",
    "\n",
    "print('10' * 3)"
   ]
  },
  {
   "cell_type": "markdown",
   "metadata": {},
   "source": [
    "Multiplication, addition and substraction can be useful for manipulating strings but we need to pay attention to our data types in order to avoid errors."
   ]
  },
  {
   "cell_type": "code",
   "execution_count": null,
   "metadata": {},
   "outputs": [],
   "source": [
    "print('10' * '10')"
   ]
  },
  {
   "cell_type": "markdown",
   "metadata": {},
   "source": [
    "### `list`\n",
    "\n",
    "Sometimes it can be useful to bundle values together. For this purpose, we use the `list` data type.\n",
    "\n",
    "Lists are initiated with square brackets, and the values in the list are separated by commas."
   ]
  },
  {
   "cell_type": "code",
   "execution_count": null,
   "metadata": {},
   "outputs": [],
   "source": [
    "my_list = [1, 2.0, 'third value', x]"
   ]
  },
  {
   "cell_type": "markdown",
   "metadata": {},
   "source": [
    "In Python, lists can hold any data type and we are allowed to mix data types within a single list. `my_list` contains an integer, a float, a string and a variable containing another integer.\n",
    "\n",
    "Each value in the list is assigned an index. We can use this index to access a single element of our list."
   ]
  },
  {
   "cell_type": "code",
   "execution_count": null,
   "metadata": {
    "scrolled": true
   },
   "outputs": [],
   "source": [
    "my_list[2]"
   ]
  },
  {
   "cell_type": "markdown",
   "metadata": {},
   "source": [
    "Notice that the list index starts at zero. That is why our third value is located at index 2."
   ]
  },
  {
   "cell_type": "markdown",
   "metadata": {},
   "source": [
    "## Functions"
   ]
  },
  {
   "cell_type": "markdown",
   "metadata": {},
   "source": [
    "With functions, we get a lot of useful features without having to worry about the underlying code.\n",
    "\n",
    "Functions take an input, perform some sort of operation and return an output.\n",
    "\n",
    "So far, we have already used a few functions, namely `print()` and `type()`. Another useful function is `len()`, which returns the length of an object.\n",
    "\n",
    "When used with a list, `len()` returns the number of elements in the list."
   ]
  },
  {
   "cell_type": "code",
   "execution_count": null,
   "metadata": {},
   "outputs": [],
   "source": [
    "len(my_list)"
   ]
  },
  {
   "cell_type": "markdown",
   "metadata": {},
   "source": [
    "When used with strings, `len()` returns the number of characters in the string."
   ]
  },
  {
   "cell_type": "code",
   "execution_count": null,
   "metadata": {},
   "outputs": [],
   "source": [
    "len('A string of text.')"
   ]
  },
  {
   "cell_type": "markdown",
   "metadata": {},
   "source": [
    "We can save the output of a function to a variable. This is useful if need to use to output more than once, as it is more efficient than calling the function each time."
   ]
  },
  {
   "cell_type": "code",
   "execution_count": null,
   "metadata": {},
   "outputs": [],
   "source": [
    "length_of_my_list = len(my_list)"
   ]
  },
  {
   "cell_type": "markdown",
   "metadata": {},
   "source": [
    "We are going to use a lot of functions to let us analyse, process and visualise our data.\n",
    "\n",
    "###  A note on methods\n",
    "\n",
    "_Methods_ are similar to functions but the underlying code is implemented differently. For now, we do not need to worry about the technical diffences. Both methods and functions take an input, perform some operation and return an output. Just note, that whenever methods are mentioned, you can think of them as similar to functions."
   ]
  },
  {
   "cell_type": "markdown",
   "metadata": {},
   "source": [
    "## The Next Steps"
   ]
  },
  {
   "cell_type": "markdown",
   "metadata": {},
   "source": [
    "From here you should be ready to dive in and have a go at working with some real data.\n",
    "\n",
    "The Data Exploration notebook continues by introducing some useful functions for exploring, analysing and visualising data. It also introduces the `import` statement, which lets us expand the functionality of our Python environment by importing additional code from libraries and modules.\n",
    "\n",
    "In case you want to know more about a specific object in Python, you can use the `help` statement, which will give you access to the documentation.\n",
    "\n",
    "If you want to learn more about the basics of Python, including the topics covered here, the first chapter of the book [Automate the Boring Stuff](http://automatetheboringstuff.com/chapter1/) by Al Sweigart is a useful introduction."
   ]
  }
 ],
 "metadata": {
  "kernelspec": {
   "display_name": "Python 3",
   "language": "python",
   "name": "python3"
  },
  "language_info": {
   "codemirror_mode": {
    "name": "ipython",
    "version": 3
   },
   "file_extension": ".py",
   "mimetype": "text/x-python",
   "name": "python",
   "nbconvert_exporter": "python",
   "pygments_lexer": "ipython3",
   "version": "3.6.8"
  }
 },
 "nbformat": 4,
 "nbformat_minor": 2
}
